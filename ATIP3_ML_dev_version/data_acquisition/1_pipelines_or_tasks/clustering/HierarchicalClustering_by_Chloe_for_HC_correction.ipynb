{
 "cells": [
  {
   "cell_type": "markdown",
   "metadata": {},
   "source": [
    "## Exploring hierarchical clustering of REMAGUS02 cohort"
   ]
  },
  {
   "cell_type": "code",
   "execution_count": 1,
   "metadata": {},
   "outputs": [
    {
     "name": "stdout",
     "output_type": "stream",
     "text": [
      "Populating the interactive namespace from numpy and matplotlib\n"
     ]
    }
   ],
   "source": [
    "%pylab inline"
   ]
  },
  {
   "cell_type": "code",
   "execution_count": 3,
   "metadata": {},
   "outputs": [],
   "source": [
    "import pandas as pd"
   ]
  },
  {
   "cell_type": "markdown",
   "metadata": {},
   "source": [
    "### Loading data sent by Sylvie"
   ]
  },
  {
   "cell_type": "code",
   "execution_count": 4,
   "metadata": {},
   "outputs": [],
   "source": [
    "df = pd.read_csv(\"r02_clustering_sylvie.csv\", index_col=0, sep='\\t')"
   ]
  },
  {
   "cell_type": "code",
   "execution_count": 5,
   "metadata": {},
   "outputs": [
    {
     "data": {
      "text/html": [
       "<div>\n",
       "<style scoped>\n",
       "    .dataframe tbody tr th:only-of-type {\n",
       "        vertical-align: middle;\n",
       "    }\n",
       "\n",
       "    .dataframe tbody tr th {\n",
       "        vertical-align: top;\n",
       "    }\n",
       "\n",
       "    .dataframe thead th {\n",
       "        text-align: right;\n",
       "    }\n",
       "</style>\n",
       "<table border=\"1\" class=\"dataframe\">\n",
       "  <thead>\n",
       "    <tr style=\"text-align: right;\">\n",
       "      <th></th>\n",
       "      <th>GROUPE</th>\n",
       "      <th>212093_s_at</th>\n",
       "      <th>212095_s_at</th>\n",
       "      <th>212096_s_at</th>\n",
       "      <th>239576_at</th>\n",
       "      <th>ATIP 3classes : high(3) med(2)  low(1)</th>\n",
       "    </tr>\n",
       "    <tr>\n",
       "      <th>CLETRI</th>\n",
       "      <th></th>\n",
       "      <th></th>\n",
       "      <th></th>\n",
       "      <th></th>\n",
       "      <th></th>\n",
       "      <th></th>\n",
       "    </tr>\n",
       "  </thead>\n",
       "  <tbody>\n",
       "    <tr>\n",
       "      <th>11001</th>\n",
       "      <td>1</td>\n",
       "      <td>2.293067</td>\n",
       "      <td>4.207343</td>\n",
       "      <td>8.602657</td>\n",
       "      <td>7.333527</td>\n",
       "      <td>1</td>\n",
       "    </tr>\n",
       "    <tr>\n",
       "      <th>11002</th>\n",
       "      <td>1</td>\n",
       "      <td>6.083570</td>\n",
       "      <td>6.462007</td>\n",
       "      <td>10.831717</td>\n",
       "      <td>9.031872</td>\n",
       "      <td>3</td>\n",
       "    </tr>\n",
       "    <tr>\n",
       "      <th>11008</th>\n",
       "      <td>1</td>\n",
       "      <td>5.316822</td>\n",
       "      <td>5.586858</td>\n",
       "      <td>9.879765</td>\n",
       "      <td>7.684949</td>\n",
       "      <td>2</td>\n",
       "    </tr>\n",
       "    <tr>\n",
       "      <th>11009</th>\n",
       "      <td>1</td>\n",
       "      <td>3.247557</td>\n",
       "      <td>3.305827</td>\n",
       "      <td>8.758160</td>\n",
       "      <td>6.189891</td>\n",
       "      <td>1</td>\n",
       "    </tr>\n",
       "    <tr>\n",
       "      <th>11013</th>\n",
       "      <td>1</td>\n",
       "      <td>3.775241</td>\n",
       "      <td>4.165393</td>\n",
       "      <td>8.714390</td>\n",
       "      <td>6.259938</td>\n",
       "      <td>1</td>\n",
       "    </tr>\n",
       "  </tbody>\n",
       "</table>\n",
       "</div>"
      ],
      "text/plain": [
       "        GROUPE  212093_s_at  212095_s_at  212096_s_at  239576_at  \\\n",
       "CLETRI                                                             \n",
       "11001        1     2.293067     4.207343     8.602657   7.333527   \n",
       "11002        1     6.083570     6.462007    10.831717   9.031872   \n",
       "11008        1     5.316822     5.586858     9.879765   7.684949   \n",
       "11009        1     3.247557     3.305827     8.758160   6.189891   \n",
       "11013        1     3.775241     4.165393     8.714390   6.259938   \n",
       "\n",
       "        ATIP 3classes : high(3) med(2)  low(1)  \n",
       "CLETRI                                          \n",
       "11001                                        1  \n",
       "11002                                        3  \n",
       "11008                                        2  \n",
       "11009                                        1  \n",
       "11013                                        1  "
      ]
     },
     "execution_count": 5,
     "metadata": {},
     "output_type": "execute_result"
    }
   ],
   "source": [
    "df.head()"
   ]
  },
  {
   "cell_type": "code",
   "execution_count": 6,
   "metadata": {},
   "outputs": [
    {
     "data": {
      "text/plain": [
       "115"
      ]
     },
     "execution_count": 6,
     "metadata": {},
     "output_type": "execute_result"
    }
   ],
   "source": [
    "len(df)"
   ]
  },
  {
   "cell_type": "code",
   "execution_count": 7,
   "metadata": {},
   "outputs": [],
   "source": [
    "# Rename last column with a more manageable name\n",
    "df.rename(columns={df.columns[-1]:'ATIP3_classes'}, inplace=True)"
   ]
  },
  {
   "cell_type": "code",
   "execution_count": 8,
   "metadata": {},
   "outputs": [],
   "source": [
    "#clusters_sylvie = np.array(df[df.columns[-1]])"
   ]
  },
  {
   "cell_type": "code",
   "execution_count": 9,
   "metadata": {},
   "outputs": [],
   "source": [
    "# Names of the ATIP3 low samples\n",
    "sylvie_atip3_low_names = df[df.ATIP3_classes==1].index"
   ]
  },
  {
   "cell_type": "code",
   "execution_count": 10,
   "metadata": {},
   "outputs": [
    {
     "data": {
      "text/plain": [
       "25"
      ]
     },
     "execution_count": 10,
     "metadata": {},
     "output_type": "execute_result"
    }
   ],
   "source": [
    "# Number of ATIP3 low samples\n",
    "len(sylvie_atip3_low_names)"
   ]
  },
  {
   "cell_type": "code",
   "execution_count": 12,
   "metadata": {},
   "outputs": [
    {
     "data": {
      "text/plain": [
       "(115, 4)"
      ]
     },
     "execution_count": 12,
     "metadata": {},
     "output_type": "execute_result"
    }
   ],
   "source": [
    "# Extract data matrix\n",
    "X = np.array(df.drop(columns=['ATIP3_classes', 'GROUPE']))\n",
    "X.shape"
   ]
  },
  {
   "cell_type": "markdown",
   "metadata": {},
   "source": [
    "## Data exploration"
   ]
  },
  {
   "cell_type": "code",
   "execution_count": 13,
   "metadata": {},
   "outputs": [
    {
     "data": {
      "image/png": "[encoded data removed]",
      "text/plain": [
       "<Figure size 576x576 with 4 Axes>"
      ]
     },
     "metadata": {
      "needs_background": "light"
     },
     "output_type": "display_data"
    }
   ],
   "source": [
    "fig = plt.figure(figsize=(8, 8))\n",
    "\n",
    "# Histograms for continuous features\n",
    "for idx in range(X.shape[1]):\n",
    "    # create a subplot in the (idx+1) position of a 2x2 grid\n",
    "    ax = fig.add_subplot(2, 2, (idx+1))\n",
    "    # plot the histogram of idx\n",
    "    h = ax.hist(X[:, idx], bins=20, edgecolor='none')\n",
    "    # use the name of the feature as a title for each histogram\n",
    "    ax.set_title(df.columns[idx+2])\n",
    "# espacement entre les subplots\n",
    "fig.tight_layout(pad=1.0)"
   ]
  },
  {
   "cell_type": "markdown",
   "metadata": {},
   "source": [
    "### Scale features "
   ]
  },
  {
   "cell_type": "code",
   "execution_count": 14,
   "metadata": {},
   "outputs": [],
   "source": [
    "from sklearn import preprocessing"
   ]
  },
  {
   "cell_type": "code",
   "execution_count": 15,
   "metadata": {},
   "outputs": [],
   "source": [
    "scaler = preprocessing.StandardScaler()\n",
    "#scaler = preprocessing.PowerTransformer(method='yeo-johnson')\n",
    "scaler.fit(X)\n",
    "X_scaled = scaler.transform(X)"
   ]
  },
  {
   "cell_type": "code",
   "execution_count": 16,
   "metadata": {},
   "outputs": [
    {
     "data": {
      "image/png": "[encoded data removed]",
      "text/plain": [
       "<Figure size 576x576 with 4 Axes>"
      ]
     },
     "metadata": {
      "needs_background": "light"
     },
     "output_type": "display_data"
    }
   ],
   "source": [
    "fig = plt.figure(figsize=(8, 8))\n",
    "\n",
    "# Histograms for continuous features\n",
    "for idx in range(X_scaled.shape[1]):\n",
    "    # create a subplot in the (idx+1) position of a 2x2 grid\n",
    "    ax = fig.add_subplot(2, 2, (idx+1))\n",
    "    # plot the histogram of idx\n",
    "    h = ax.hist(X_scaled[:, idx], bins=20, edgecolor='none')\n",
    "    # use the name of the feature as a title for each histogram\n",
    "    ax.set_title(df.columns[idx+2])\n",
    "# espacement entre les subplots\n",
    "fig.tight_layout(pad=1.0)"
   ]
  },
  {
   "cell_type": "markdown",
   "metadata": {},
   "source": [
    "## Hierarchical clustering with scipy"
   ]
  },
  {
   "cell_type": "code",
   "execution_count": 17,
   "metadata": {},
   "outputs": [],
   "source": [
    "from scipy import cluster"
   ]
  },
  {
   "cell_type": "code",
   "execution_count": 18,
   "metadata": {},
   "outputs": [],
   "source": [
    "# Perform clustering\n",
    "link_matrix = cluster.hierarchy.linkage(X_scaled, method='average', metric='euclidean', optimal_ordering=True)\n",
    "\n",
    "# Obtain 3 clusters\n",
    "cluster_assignment = cluster.hierarchy.cut_tree(link_matrix, n_clusters=3)\n",
    "cluster_assignment = cluster_assignment.reshape((cluster_assignment.shape[0], ))"
   ]
  },
  {
   "cell_type": "markdown",
   "metadata": {},
   "source": [
    "## Visualization with seaborn"
   ]
  },
  {
   "cell_type": "code",
   "execution_count": 19,
   "metadata": {},
   "outputs": [],
   "source": [
    "import seaborn as sns"
   ]
  },
  {
   "cell_type": "code",
   "execution_count": 20,
   "metadata": {},
   "outputs": [
    {
     "name": "stdout",
     "output_type": "stream",
     "text": [
      "0.9.1\n"
     ]
    }
   ],
   "source": [
    "print(sns.__version__)"
   ]
  },
  {
   "cell_type": "code",
   "execution_count": 36,
   "metadata": {},
   "outputs": [
    {
     "data": {
      "image/png": "[encoded data removed]",
      "text/plain": [
       "<Figure size 648x72 with 1 Axes>"
      ]
     },
     "metadata": {
      "needs_background": "light"
     },
     "output_type": "display_data"
    }
   ],
   "source": [
    "# Color palette\n",
    "my_color_palette = sns.diverging_palette(20, 220, l=60, n=9, center=\"dark\") \n",
    "sns.palplot(my_color_palette)"
   ]
  },
  {
   "cell_type": "code",
   "execution_count": 22,
   "metadata": {},
   "outputs": [],
   "source": [
    "# Create a new data frame with scaled data\n",
    "df_scaled = df.drop(columns=[df.columns[-1], 'GROUPE'])\n",
    "for idx, col in enumerate(df_scaled.columns):\n",
    "    df_scaled[col] = X_scaled[:, idx]"
   ]
  },
  {
   "cell_type": "code",
   "execution_count": 23,
   "metadata": {},
   "outputs": [],
   "source": [
    "# Add cluster assignment to data frame\n",
    "df_scaled['cluster'] = cluster_assignment"
   ]
  },
  {
   "cell_type": "code",
   "execution_count": 24,
   "metadata": {},
   "outputs": [],
   "source": [
    "# Create a vector of colors corresponding to the 'cluster' column\n",
    "my_palette = dict(zip(unique(df_scaled.cluster), [\"darkorange\", \"khaki\", \"sienna\"]))\n",
    "cluster_row_colors = df_scaled.cluster.map(my_palette)"
   ]
  },
  {
   "cell_type": "code",
   "execution_count": 37,
   "metadata": {},
   "outputs": [
    {
     "data": {
      "image/png": "[encoded data removed]",
      "text/plain": [
       "<Figure size 360x576 with 5 Axes>"
      ]
     },
     "metadata": {
      "needs_background": "light"
     },
     "output_type": "display_data"
    }
   ],
   "source": [
    "# Plot cluster heatmap + dendrogram\n",
    "seaborn_cluster = sns.clustermap(df_scaled.drop(columns=['cluster']), \n",
    "                                 col_cluster=False, # do not cluster columns\n",
    "                                 row_linkage=link_matrix, # use previously computed cluster assignment\n",
    "                                 cbar_pos=(1.2, 0.7, 0.05, 0.1), # position of the colorbar\n",
    "                                 cmap=my_color_palette,\n",
    "                                 row_colors=cluster_row_colors, # use cluster colors to color rows on the left\n",
    "                                 figsize=(5, 8))"
   ]
  },
  {
   "cell_type": "code",
   "execution_count": 39,
   "metadata": {},
   "outputs": [],
   "source": [
    "seaborn_cluster.savefig('clustering_remagus02.png', bbox_inches='tight')"
   ]
  },
  {
   "cell_type": "markdown",
   "metadata": {},
   "source": [
    "The orange cluster (number 0) corresponds to low expression across all probes."
   ]
  },
  {
   "cell_type": "markdown",
   "metadata": {},
   "source": [
    "## Compare cluster 0 to the one identified by Sylvie"
   ]
  },
  {
   "cell_type": "code",
   "execution_count": 26,
   "metadata": {},
   "outputs": [
    {
     "name": "stdout",
     "output_type": "stream",
     "text": [
      "We found 25 ATIP3 low samples\n",
      "Our ATIP3 low samples: Int64Index([11001, 11009, 11013, 11020, 11052, 11075, 11091, 12038, 21024,\n",
      "            21037, 21047, 22010, 22030, 31022, 41004, 41012, 41014, 41020,\n",
      "            41027, 41032, 41042, 42002, 42003, 42007, 42012],\n",
      "           dtype='int64', name='CLETRI')\n"
     ]
    }
   ],
   "source": [
    "# Restrict df_scaled to the rows for which my cluster assignment is 0\n",
    "my_atip3_low = df_scaled[df_scaled.cluster==0]\n",
    "print(\"We found %d ATIP3 low samples\" % len(my_atip3_low))\n",
    "# Get their names\n",
    "my_atip3_low_names = my_atip3_low.index\n",
    "print(\"Our ATIP3 low samples:\", my_atip3_low_names)"
   ]
  },
  {
   "cell_type": "code",
   "execution_count": 27,
   "metadata": {},
   "outputs": [
    {
     "name": "stdout",
     "output_type": "stream",
     "text": [
      "Sylvie's ATIP3 low samples: Int64Index([11001, 11009, 11013, 11020, 11052, 11075, 11091, 12038, 21024,\n",
      "            21037, 21047, 22010, 22030, 31022, 41004, 41012, 41014, 41020,\n",
      "            41027, 41032, 41042, 42002, 42003, 42007, 42012],\n",
      "           dtype='int64', name='CLETRI')\n"
     ]
    }
   ],
   "source": [
    "print(\"Sylvie's ATIP3 low samples:\", sylvie_atip3_low_names)"
   ]
  },
  {
   "cell_type": "code",
   "execution_count": 33,
   "metadata": {},
   "outputs": [
    {
     "name": "stdout",
     "output_type": "stream",
     "text": [
      "The size of the intersection is: 25\n",
      "There are 0 samples that differ\n"
     ]
    }
   ],
   "source": [
    "print(\"The size of the intersection is:\", len(set(my_atip3_low_names).intersection(set(sylvie_atip3_low_names))))\n",
    "print(\"There are %d samples that differ\" % len(set(my_atip3_low_names).difference(set(sylvie_atip3_low_names))))\n",
    "      "
   ]
  },
  {
   "cell_type": "code",
   "execution_count": null,
   "metadata": {},
   "outputs": [],
   "source": []
  }
 ],
 "metadata": {
  "kernelspec": {
   "display_name": "Python 3",
   "language": "python",
   "name": "python3"
  },
  "language_info": {
   "codemirror_mode": {
    "name": "ipython",
    "version": 3
   },
   "file_extension": ".py",
   "mimetype": "text/x-python",
   "name": "python",
   "nbconvert_exporter": "python",
   "pygments_lexer": "ipython3",
   "version": "3.7.4"
  }
 },
 "nbformat": 4,
 "nbformat_minor": 4
}
